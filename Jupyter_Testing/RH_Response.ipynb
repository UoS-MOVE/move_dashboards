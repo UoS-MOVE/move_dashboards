{
 "cells": [
  {
   "cell_type": "markdown",
   "metadata": {},
   "source": [
    "# Testing generating RH response plots"
   ]
  },
  {
   "cell_type": "code",
   "execution_count": null,
   "metadata": {},
   "outputs": [],
   "source": [
    "import datetime\n",
    "import pandas as pd\n",
    "import pyodbc\n",
    "import json\n",
    "\n",
    "#import plotly\n",
    "import plotly.graph_objects as go"
   ]
  },
  {
   "cell_type": "code",
   "execution_count": null,
   "metadata": {},
   "outputs": [],
   "source": [
    "#SQL Server connection info\n",
    "with open(\"./../.dbCreds\") as f:\n",
    "\tdbCreds = json.load(f)\n",
    "\n",
    "# Formatted connection string for the SQL DB.\n",
    "SQL_CONN_STR = 'DSN=Salford-SQL-Server;Database=salfordMOVE;Trusted_Connection=no;UID='+dbCreds['UNAME']+';PWD='+dbCreds['PWD']+';'"
   ]
  },
  {
   "cell_type": "code",
   "execution_count": null,
   "metadata": {},
   "outputs": [],
   "source": [
    "conn = pyodbc.connect(SQL_CONN_STR)\r\n",
    "\r\n",
    "SQL = \"\"\"\r\n",
    "      SELECT r.[messageDate]\r\n",
    "            ,r.[plotValue]\r\n",
    "      FROM [salfordMove].[dbo].[READINGS] AS r\r\n",
    "      JOIN [salfordMOVE].[dbo].SENSORS AS s\r\n",
    "            ON (r.sensorID = s.sensorID)\r\n",
    "      JOIN [salfordMOVE].[dbo].PLOT_LABELS as pl\r\n",
    "            ON (r.plotLabelID = pl.plotLabelID)\r\n",
    "      WHERE [sensorName] LIKE 'RH%'\r\n",
    "            AND [sensorName] LIKE '%Z03%'\r\n",
    "            AND [plotLabel] = 'Humidity'\r\n",
    "      ORDER BY messageDate ASC\r\n",
    "\"\"\"\r\n",
    "\r\n",
    "result = pd.read_sql(SQL, conn)"
   ]
  },
  {
   "cell_type": "code",
   "execution_count": null,
   "metadata": {},
   "outputs": [],
   "source": [
    "# Round the timestamps to the closest 15min\n",
    "#result['messageDate'] = result['messageDate'].apply(lambda dt: datetime.datetime(dt.year, dt.month, dt.day, dt.hour,15*round((float(dt.minute) + float(dt.second)/60) / 15)))\n",
    "result['messageDate']=result['messageDate'].dt.round('15min')"
   ]
  },
  {
   "cell_type": "code",
   "execution_count": null,
   "metadata": {},
   "outputs": [],
   "source": [
    "# Set the upper and lower limits for the RH chart\n",
    "upper_limits = [4, 13, 19, 30, 39, 49, 60, 74, 78, 87, 100]\n",
    "lower_limits = [0, 7, 12, 20, 27, 36, 47, 63, 71, 83, 100]\n",
    "\n",
    "# Set the response time & n steps for calculating RH response\n",
    "# 0.416667, 1, 4.3, 15, 26, 30, 40\n",
    "response_time = {\"RHi10h\" : 40, \"RHi1d\" : 96, \"RHi4.3d\" : 412.8, \"RHi15d\" : 1440, \"RHi26d\" : 2496, \"RHi30d\" : 2880, \"RHi40d\" : 3840}\n",
    "\n",
    "# Load test data from file\n",
    "#data = pd.read_csv('dataSampleVisualisations.csv')\n",
    "#data_10h = data['10h']\n",
    "#data_15d = data['15d']"
   ]
  },
  {
   "cell_type": "code",
   "execution_count": null,
   "metadata": {
    "tags": []
   },
   "outputs": [],
   "source": [
    "# calculate the RH respsonse datasets here\r\n",
    "# RHresponse,i = RHresponse,i - 1 / (RHi / (n/3)) / 1 + (1 / (n / 3))\r\n",
    "## RHresponse,i = RH at the current time step\r\n",
    "## RHresponse,i - 1 = RH at the previous time step\r\n",
    "## RHi = RH of the air at time step\r\n",
    "## n = number of time steps for the tiem span\r\n",
    "\r\n",
    "data_10h = pd.DataFrame(result.head(1))\r\n",
    "data_15d = pd.DataFrame(result.head(1))\r\n",
    "\r\n",
    "for i in range(len(result.index)):\r\n",
    "    if i != len(result.index) - 1:\r\n",
    "        o = i + 1\r\n",
    "    else:\r\n",
    "        o = i\r\n",
    "\r\n",
    "    v_10h = (float(data_10h.iloc[i, 1]) + (float(result.iloc[o, 1]) / (response_time[\"RHi10h\"] / 3))) / (1 + (1 / (response_time[\"RHi10h\"] / 3)))\r\n",
    "    v_15d = (float(data_15d.iloc[i, 1]) + (float(result.iloc[o, 1]) / (response_time[\"RHi15d\"] / 3))) / (1 + (1 / (response_time[\"RHi15d\"] / 3)))\r\n",
    "\r\n",
    "    # Compile the current timestamp and calculated value into a dict\r\n",
    "    data_10h_temp = {\"messageDate\" : result.iloc[o, 0], \"plotValue\" : v_10h}\r\n",
    "    data_15d_temp = {\"messageDate\" : result.iloc[o, 0], \"plotValue\" : v_15d}\r\n",
    "\r\n",
    "    # Append the newly calculated value to the DF\r\n",
    "    data_10h = data_10h.append(data_10h_temp, ignore_index=True)\r\n",
    "    data_15d = data_15d.append(data_15d_temp, ignore_index=True)\r\n",
    "\r\n",
    "    print(\"\\r\" + str(i), end=\"\")\r\n"
   ]
  },
  {
   "cell_type": "code",
   "execution_count": null,
   "metadata": {},
   "outputs": [],
   "source": [
    "#print(data_10h)\r\n",
    "#print(data_15d)"
   ]
  },
  {
   "cell_type": "code",
   "execution_count": null,
   "metadata": {},
   "outputs": [],
   "source": [
    "# Instantiate the figure object\r\n",
    "fig = go.Figure()\r\n",
    "\r\n",
    "# Add traces to the figure\r\n",
    "fig.add_trace(go.Scatter(x = lower_limits, y = upper_limits, mode = 'lines', name = 'Upper Limit', marker_color = 'Red'))\r\n",
    "fig.add_trace(go.Scatter(x = data_10h[\"plotValue\"], y = data_15d[\"plotValue\"], mode = 'lines+markers', name = 'Data', marker_color = 'Blue'))\r\n",
    "fig.add_trace(go.Scatter(x = upper_limits, y = lower_limits, mode = 'lines', name = 'Lower Limit', marker_color = 'Orange'))\r\n",
    "fig.update_layout(title=\"RH Response - Zone 03\", xaxis_title=\"10h\", yaxis_title=\"15d\", width=1000, height=1000)"
   ]
  },
  {
   "cell_type": "code",
   "execution_count": null,
   "metadata": {},
   "outputs": [],
   "source": []
  }
 ],
 "metadata": {
  "interpreter": {
   "hash": "3278021a5d185925dff727da5382c5333d23620e596eade8ae29a1db931294bb"
  },
  "kernelspec": {
   "display_name": "Python 3.8.5  ('.moveDashVenv': venv)",
   "name": "python3"
  },
  "language_info": {
   "codemirror_mode": {
    "name": "ipython",
    "version": 3
   },
   "file_extension": ".py",
   "mimetype": "text/x-python",
   "name": "python",
   "nbconvert_exporter": "python",
   "pygments_lexer": "ipython3",
   "version": "3.8.5"
  },
  "metadata": {
   "interpreter": {
    "hash": "3278021a5d185925dff727da5382c5333d23620e596eade8ae29a1db931294bb"
   }
  },
  "orig_nbformat": 2
 },
 "nbformat": 4,
 "nbformat_minor": 2
}