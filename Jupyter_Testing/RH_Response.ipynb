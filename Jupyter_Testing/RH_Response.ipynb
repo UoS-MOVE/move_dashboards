{
 "cells": [
  {
   "cell_type": "markdown",
   "metadata": {},
   "source": [
    "# Testing generating RH response plots"
   ]
  },
  {
   "cell_type": "code",
   "execution_count": 1,
   "metadata": {},
   "outputs": [],
   "source": [
    "import datetime\n",
    "import pandas as pd\n",
    "import pyodbc\n",
    "import json\n",
    "\n",
    "#import plotly\n",
    "import plotly.graph_objects as go\n",
    "\n",
    "from tqdm import tqdm"
   ]
  },
  {
   "cell_type": "code",
   "execution_count": 2,
   "metadata": {},
   "outputs": [],
   "source": [
    "#SQL Server connection info\n",
    "with open(\"./../.dbCreds\") as f:\n",
    "\tdbCreds = json.load(f)\n",
    "\n",
    "# Formatted connection string for the SQL DB.\n",
    "SQL_CONN_STR = 'DSN=Salford-SQL-Server;Database=salfordMOVE;Trusted_Connection=no;UID='+dbCreds['UNAME']+';PWD='+dbCreds['PWD']+';'"
   ]
  },
  {
   "cell_type": "code",
   "execution_count": 3,
   "metadata": {},
   "outputs": [
    {
     "ename": "OperationalError",
     "evalue": "('08001', '[08001] [Microsoft][ODBC Driver 17 for SQL Server]Named Pipes Provider: Could not open a connection to SQL Server [53].  (53) (SQLDriverConnect); [08001] [Microsoft][ODBC Driver 17 for SQL Server]Login timeout expired (0); [08001] [Microsoft][ODBC Driver 17 for SQL Server]A network-related or instance-specific error has occurred while establishing a connection to SQL Server. Server is not found or not accessible. Check if instance name is correct and if SQL Server is configured to allow remote connections. For more information see SQL Server Books Online. (53)')",
     "output_type": "error",
     "traceback": [
      "\u001b[1;31m---------------------------------------------------------------------------\u001b[0m",
      "\u001b[1;31mOperationalError\u001b[0m                          Traceback (most recent call last)",
      "\u001b[1;32m<ipython-input-3-d1713b3ed195>\u001b[0m in \u001b[0;36m<module>\u001b[1;34m\u001b[0m\n\u001b[1;32m----> 1\u001b[1;33m \u001b[0mconn\u001b[0m \u001b[1;33m=\u001b[0m \u001b[0mpyodbc\u001b[0m\u001b[1;33m.\u001b[0m\u001b[0mconnect\u001b[0m\u001b[1;33m(\u001b[0m\u001b[0mSQL_CONN_STR\u001b[0m\u001b[1;33m)\u001b[0m\u001b[1;33m\u001b[0m\u001b[1;33m\u001b[0m\u001b[0m\n\u001b[0m",
      "\u001b[1;31mOperationalError\u001b[0m: ('08001', '[08001] [Microsoft][ODBC Driver 17 for SQL Server]Named Pipes Provider: Could not open a connection to SQL Server [53].  (53) (SQLDriverConnect); [08001] [Microsoft][ODBC Driver 17 for SQL Server]Login timeout expired (0); [08001] [Microsoft][ODBC Driver 17 for SQL Server]A network-related or instance-specific error has occurred while establishing a connection to SQL Server. Server is not found or not accessible. Check if instance name is correct and if SQL Server is configured to allow remote connections. For more information see SQL Server Books Online. (53)')"
     ]
    }
   ],
   "source": [
    "conn = pyodbc.connect(SQL_CONN_STR)"
   ]
  },
  {
   "cell_type": "code",
   "execution_count": null,
   "metadata": {},
   "outputs": [],
   "source": [
    "SQL = \"\"\"\n",
    "\tSELECT r.[messageDate]\n",
    "\t\t,r.[plotValue]\n",
    "\tFROM [salfordMove].[dbo].[READINGS] AS r\n",
    "\tJOIN [salfordMOVE].[dbo].SENSORS AS s\n",
    "\t\tON (r.sensorID = s.sensorID)\n",
    "\tJOIN [salfordMOVE].[dbo].PLOT_LABELS as pl\n",
    "\t\tON (r.plotLabelID = pl.plotLabelID)\n",
    "\tWHERE [sensorName] LIKE 'RH%'\n",
    "\t\tAND [sensorName] LIKE '%Z03%'\n",
    "\t\tAND [plotLabel] = 'Humidity'\n",
    "\tORDER BY messageDate ASC\n",
    "\"\"\""
   ]
  },
  {
   "cell_type": "code",
   "execution_count": null,
   "metadata": {},
   "outputs": [],
   "source": [
    "result = pd.read_sql(SQL, conn)"
   ]
  },
  {
   "cell_type": "code",
   "execution_count": null,
   "metadata": {},
   "outputs": [],
   "source": [
    "# Round the timestamps to the closest 15min\n",
    "#result['messageDate'] = result['messageDate'].apply(lambda dt: datetime.datetime(dt.year, dt.month, dt.day, dt.hour,15*round((float(dt.minute) + float(dt.second)/60) / 15)))\n",
    "result['messageDate']=result['messageDate'].dt.round('15min')"
   ]
  },
  {
   "cell_type": "code",
   "execution_count": null,
   "metadata": {},
   "outputs": [],
   "source": [
    "# Set the upper and lower limits for the RH chart\n",
    "upper_limits = [4, 13, 19, 30, 39, 49, 60, 74, 78, 87, 100]\n",
    "lower_limits = [0, 7, 12, 20, 27, 36, 47, 63, 71, 83, 100]\n",
    "\n",
    "# Set the response time & n steps for calculating RH response\n",
    "# 0.416667, 1, 4.3, 15, 26, 30, 40\n",
    "response_time = {\"RHi10h\" : 40, \"RHi1d\" : 96, \"RHi4.3d\" : 412.8, \"RHi15d\" : 1440, \"RHi26d\" : 2496, \"RHi30d\" : 2880, \"RHi40d\" : 3840}\n",
    "\n",
    "# Load test data from file\n",
    "#data = pd.read_csv('dataSampleVisualisations.csv')\n",
    "#data_10h = data['10h']\n",
    "#data_15d = data['15d']"
   ]
  },
  {
   "cell_type": "markdown",
   "metadata": {},
   "source": [
    "# calculate the RH respsonse datasets here\n",
    "\n",
    "# RHresponse,i = RHresponse,i - 1 / (RHi / (n/3)) / 1 + (1 / (n / 3))\n",
    "## RHresponse,i = RH at the current time step\n",
    "## RHresponse,i - 1 = RH at the previous time step\n",
    "## RHi = RH of the air at time step\n",
    "## n = number of time steps for the time span"
   ]
  },
  {
   "cell_type": "code",
   "execution_count": null,
   "metadata": {
    "tags": []
   },
   "outputs": [],
   "source": [
    "# Create datafrmaes with the first occurence of data\n",
    "data_10h = pd.DataFrame(result.head(1))\n",
    "data_15d = pd.DataFrame(result.head(1))\n",
    "\n",
    "for i in tqdm(range(len(result.index))):\n",
    "\tif i != len(result.index) - 1:\n",
    "\t\to = i + 1\n",
    "\telse:\n",
    "\t\to = i\n",
    "\n",
    "\tv_10h = (float(data_10h.iloc[i, 1]) + (float(result.iloc[o, 1]) / (response_time[\"RHi10h\"] / 3))) / (1 + (1 / (response_time[\"RHi10h\"] / 3)))\n",
    "\tv_15d = (float(data_15d.iloc[i, 1]) + (float(result.iloc[o, 1]) / (response_time[\"RHi15d\"] / 3))) / (1 + (1 / (response_time[\"RHi15d\"] / 3)))\n",
    "\n",
    "\t# Compile the current timestamp and calculated value into a dict\n",
    "\tdata_10h_temp = {\"messageDate\" : result.iloc[o, 0], \"plotValue\" : v_10h}\n",
    "\tdata_15d_temp = {\"messageDate\" : result.iloc[o, 0], \"plotValue\" : v_15d}\n",
    "\n",
    "\t# Append the newly calculated value to the DF\n",
    "\tdata_10h = data_10h.append(data_10h_temp, ignore_index=True)\n",
    "\tdata_15d = data_15d.append(data_15d_temp, ignore_index=True)\n",
    "\n",
    "\t#print(\"\\r\" + str(i), end=\"\")\n"
   ]
  },
  {
   "cell_type": "code",
   "execution_count": null,
   "metadata": {},
   "outputs": [],
   "source": [
    "# Test converting data to dict rather than iterating through DF rows\n",
    "\n",
    "dict_data_10h = result.head(1).to_dict()\n",
    "dict_data_15d = result.head(1).to_dict()\n",
    "\n",
    "data_dict = result.to_dict()\n"
   ]
  },
  {
   "cell_type": "code",
   "execution_count": null,
   "metadata": {},
   "outputs": [],
   "source": [
    "for row in tqdm(data_dict['plotValue'].items()):\n",
    "\n",
    "\t(index, val) = row\n",
    "\t#print(index)\n",
    "\t#print(val)\n",
    "\n",
    "\tindexUp = index + 1\n",
    "\n",
    "\tv_10h = (float(list(dict_data_10h['plotValue'].values())[-1]) + (float(val) / (response_time[\"RHi10h\"] / 3))) / (1 + (1 / (response_time[\"RHi10h\"] / 3)))\n",
    "\tv_15d = (float(list(dict_data_15d['plotValue'].values())[-1]) + (float(val) / (response_time[\"RHi15d\"] / 3))) / (1 + (1 / (response_time[\"RHi15d\"] / 3)))\n",
    "\n",
    "\t# Compile the current timestamp and calculated value into a dict\n",
    "\tdata_10h_date_temp = {indexUp : list(data_dict['messageDate'].values())[index]}\n",
    "\tdata_10h_value_temp = {indexUp : v_10h}\n",
    "\n",
    "\tdata_15d_date_temp = {indexUp : list(data_dict['messageDate'].values())[index]}\n",
    "\tdata_15d_value_temp = {indexUp : v_15d}\n",
    "\n",
    "\t\n",
    "\tdict_data_10h['messageDate'].update(data_10h_date_temp)\n",
    "\tdict_data_10h['plotValue'].update(data_10h_value_temp)\n",
    "\n",
    "\tdict_data_15d['messageDate'].update(data_15d_date_temp)\n",
    "\tdict_data_15d['plotValue'].update(data_15d_value_temp)\n",
    "\n",
    "\t# Append the newly calculated value to the DF\n",
    "\t#dict_data_10h.append(data_10h_temp)\n",
    "\t#dict_data_15d.append(data_15d_temp)\n",
    "\n",
    "\t# JUST GET THE LAST ENTRY OF THE DICT"
   ]
  },
  {
   "cell_type": "code",
   "execution_count": null,
   "metadata": {},
   "outputs": [],
   "source": [
    "print(dict_data_10h)"
   ]
  },
  {
   "cell_type": "code",
   "execution_count": null,
   "metadata": {},
   "outputs": [],
   "source": [
    "# Testing DB stored RH system\n"
   ]
  },
  {
   "cell_type": "code",
   "execution_count": null,
   "metadata": {},
   "outputs": [],
   "source": [
    "#print(data_10h)\n",
    "#print(data_15d)"
   ]
  },
  {
   "cell_type": "code",
   "execution_count": null,
   "metadata": {},
   "outputs": [],
   "source": [
    "# Instantiate the figure object\n",
    "fig = go.Figure()\n",
    "\n",
    "# Add traces to the figure\n",
    "fig.add_trace(go.Scatter(x = lower_limits, y = upper_limits, mode = 'lines', name = 'Upper Limit', marker_color = 'Red'))\n",
    "fig.add_trace(go.Scatter(x = data_10h[\"plotValue\"], y = data_15d[\"plotValue\"], mode = 'lines+markers', name = 'Data', marker_color = 'Blue'))\n",
    "fig.add_trace(go.Scatter(x = upper_limits, y = lower_limits, mode = 'lines', name = 'Lower Limit', marker_color = 'Orange'))\n",
    "fig.update_layout(title=\"RH Response - Zone 03\", xaxis_title=\"10h\", yaxis_title=\"15d\", width=1000, height=1000)"
   ]
  },
  {
   "cell_type": "code",
   "execution_count": null,
   "metadata": {},
   "outputs": [],
   "source": [
    "# Instantiate the figure object\n",
    "fig2 = go.Figure()\n",
    "\n",
    "# Add traces to the figure\n",
    "fig2.add_trace(go.Scatter(x = lower_limits, y = upper_limits, mode = 'lines', name = 'Upper Limit', marker_color = 'Red'))\n",
    "fig2.add_trace(go.Scatter(x = list(dict_data_10h[\"plotValue\"].values()), y = list(dict_data_15d[\"plotValue\"].values()), mode = 'lines+markers', name = 'Data', marker_color = 'Blue'))\n",
    "fig2.add_trace(go.Scatter(x = upper_limits, y = lower_limits, mode = 'lines', name = 'Lower Limit', marker_color = 'Orange'))\n",
    "fig2.update_layout(title=\"RH Response - Zone 03\", xaxis_title=\"10h\", yaxis_title=\"15d\", width=1000, height=1000)"
   ]
  }
 ],
 "metadata": {
  "interpreter": {
   "hash": "3278021a5d185925dff727da5382c5333d23620e596eade8ae29a1db931294bb"
  },
  "kernelspec": {
   "display_name": "Python 3.8.5 64-bit ('.moveDashVenv': venv)",
   "name": "python3"
  },
  "language_info": {
   "codemirror_mode": {
    "name": "ipython",
    "version": 3
   },
   "file_extension": ".py",
   "mimetype": "text/x-python",
   "name": "python",
   "nbconvert_exporter": "python",
   "pygments_lexer": "ipython3",
   "version": "3.8.5"
  },
  "metadata": {
   "interpreter": {
    "hash": "3278021a5d185925dff727da5382c5333d23620e596eade8ae29a1db931294bb"
   }
  },
  "orig_nbformat": 2
 },
 "nbformat": 4,
 "nbformat_minor": 2
}
